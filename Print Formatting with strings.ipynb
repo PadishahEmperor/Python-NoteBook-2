{
 "cells": [
  {
   "cell_type": "markdown",
   "id": "f2afaefc",
   "metadata": {},
   "source": [
    "## Formatting with the .format() method\n",
    "\n",
    "A good way to format objects into strings for print statements is with string .format() method. The syntax is:\n",
    "\n",
    "**'String here{}'.format('something1','something2)**"
   ]
  },
  {
   "cell_type": "code",
   "execution_count": 2,
   "id": "4a619d82",
   "metadata": {},
   "outputs": [
    {
     "name": "stdout",
     "output_type": "stream",
     "text": [
      "This is a string INSERTED\n"
     ]
    }
   ],
   "source": [
    "print('This is a string {}'.format('INSERTED'))"
   ]
  },
  {
   "cell_type": "code",
   "execution_count": 3,
   "id": "4fd86f96",
   "metadata": {},
   "outputs": [
    {
     "name": "stdout",
     "output_type": "stream",
     "text": [
      "The fox brown quick\n"
     ]
    }
   ],
   "source": [
    "print('The {} {} {}'.format('fox', 'brown', 'quick'))"
   ]
  },
  {
   "cell_type": "code",
   "execution_count": 6,
   "id": "5989bd56",
   "metadata": {},
   "outputs": [
    {
     "name": "stdout",
     "output_type": "stream",
     "text": [
      "The fox brown quick\n"
     ]
    }
   ],
   "source": [
    "print('The {} {} {}'.format('fox', 'brown', 'quick'))"
   ]
  },
  {
   "cell_type": "code",
   "execution_count": 8,
   "id": "beaefee0",
   "metadata": {},
   "outputs": [
    {
     "name": "stdout",
     "output_type": "stream",
     "text": [
      "Thefox brown quick\n"
     ]
    }
   ],
   "source": [
    "print('The{} {} {}'.format('fox', 'brown','quick'))"
   ]
  },
  {
   "cell_type": "code",
   "execution_count": 12,
   "id": "626a4376",
   "metadata": {},
   "outputs": [
    {
     "name": "stdout",
     "output_type": "stream",
     "text": [
      "The quick brown fox\n"
     ]
    }
   ],
   "source": [
    "print('The {2} {1} {0}'.format('fox', 'brown', 'quick'))"
   ]
  },
  {
   "cell_type": "code",
   "execution_count": 14,
   "id": "3906cca6",
   "metadata": {},
   "outputs": [
    {
     "name": "stdout",
     "output_type": "stream",
     "text": [
      "The fox fox fox\n"
     ]
    }
   ],
   "source": [
    "print('The {0} {0} {0}'.format('fox', 'brown', 'quick'))"
   ]
  },
  {
   "cell_type": "code",
   "execution_count": 15,
   "id": "d74e5589",
   "metadata": {},
   "outputs": [
    {
     "name": "stdout",
     "output_type": "stream",
     "text": [
      "The f = fox b=brown q = quick\n"
     ]
    }
   ],
   "source": [
    "print('The {q} {} {}'.format('f = fox', 'b=brown', 'q = quick'))"
   ]
  },
  {
   "cell_type": "code",
   "execution_count": 20,
   "id": "81bd1a62",
   "metadata": {},
   "outputs": [
    {
     "name": "stdout",
     "output_type": "stream",
     "text": [
      "The quick brown fox\n"
     ]
    }
   ],
   "source": [
    "print('The {q} {b} {f}'.format(f = 'fox', b = 'brown', q = 'quick'))"
   ]
  },
  {
   "cell_type": "code",
   "execution_count": 21,
   "id": "4be890e9",
   "metadata": {},
   "outputs": [
    {
     "name": "stdout",
     "output_type": "stream",
     "text": [
      "The quick brown fox\n"
     ]
    }
   ],
   "source": [
    "print('The {q} {b} {f}'.format(f='fox', b ='brown', q= 'quick'))"
   ]
  },
  {
   "cell_type": "code",
   "execution_count": 23,
   "id": "9331f98e",
   "metadata": {},
   "outputs": [
    {
     "name": "stdout",
     "output_type": "stream",
     "text": [
      "The fox fox fox\n"
     ]
    }
   ],
   "source": [
    "print('The {f} {f} {f}'.format(f = 'fox', b = 'brown', q = 'quick'))"
   ]
  },
  {
   "cell_type": "markdown",
   "id": "26d57ba4",
   "metadata": {},
   "source": [
    "**Now to Flot formatting**\n",
    "\n",
    "This follows **\"{value:width.precision}**\n",
    "\n",
    "What this allows is basically let you adjust the width and precision of your floating point number"
   ]
  },
  {
   "cell_type": "code",
   "execution_count": 26,
   "id": "fb54db3f",
   "metadata": {},
   "outputs": [],
   "source": [
    "result = 100/777"
   ]
  },
  {
   "cell_type": "code",
   "execution_count": 27,
   "id": "a7fce381",
   "metadata": {},
   "outputs": [
    {
     "data": {
      "text/plain": [
       "0.1287001287001287"
      ]
     },
     "execution_count": 27,
     "metadata": {},
     "output_type": "execute_result"
    }
   ],
   "source": [
    "result"
   ]
  },
  {
   "cell_type": "markdown",
   "id": "60ffa28d",
   "metadata": {},
   "source": [
    "What we can do with this is we can change the level of precision we want and even change the width of the number itself."
   ]
  },
  {
   "cell_type": "code",
   "execution_count": 29,
   "id": "66c11227",
   "metadata": {},
   "outputs": [
    {
     "name": "stdout",
     "output_type": "stream",
     "text": [
      "The result was 0.1287001287001287\n"
     ]
    }
   ],
   "source": [
    "print('The result was {}'.format(result))"
   ]
  },
  {
   "cell_type": "code",
   "execution_count": 31,
   "id": "ae8a3ee3",
   "metadata": {},
   "outputs": [
    {
     "name": "stdout",
     "output_type": "stream",
     "text": [
      "The result was 0.1287001287001287\n"
     ]
    }
   ],
   "source": [
    "print('The result was {r}'.format(r= result))"
   ]
  },
  {
   "cell_type": "code",
   "execution_count": 84,
   "id": "436b5e38",
   "metadata": {},
   "outputs": [
    {
     "name": "stdout",
     "output_type": "stream",
     "text": [
      "Fruit    | Quantity\n",
      "Apples   |       3.2\n",
      "Oranges  |        10\n"
     ]
    }
   ],
   "source": [
    "print('{0:8} | {1:5}'.format('Fruit', 'Quantity'))\n",
    "print('{0:8} | {1:9}'.format('Apples', 3.2))\n",
    "print('{0:8} | {1:9}'.format('Oranges', 10))"
   ]
  },
  {
   "cell_type": "code",
   "execution_count": 54,
   "id": "b80b7b1b",
   "metadata": {},
   "outputs": [
    {
     "name": "stdout",
     "output_type": "stream",
     "text": [
      "This is a string INSERTED\n"
     ]
    }
   ],
   "source": [
    "print('This is a string {}'.format('INSERTED'))"
   ]
  },
  {
   "cell_type": "code",
   "execution_count": 105,
   "id": "8a101895",
   "metadata": {},
   "outputs": [
    {
     "name": "stdout",
     "output_type": "stream",
     "text": [
      "The fox brown jumps quickly over\n"
     ]
    }
   ],
   "source": [
    "print('The {} {} {}'.format('fox', 'brown','jumps' ' quickly over'))"
   ]
  },
  {
   "cell_type": "markdown",
   "id": "74edb05b",
   "metadata": {},
   "source": [
    "Now putting the value of the formated variables or strings using index postions"
   ]
  },
  {
   "cell_type": "code",
   "execution_count": 58,
   "id": "885f4266",
   "metadata": {},
   "outputs": [
    {
     "name": "stdout",
     "output_type": "stream",
     "text": [
      "The quick brown fox jumps\n"
     ]
    }
   ],
   "source": [
    "print('The {q} {b} {f} {j}'.format(f='fox', b='brown', j='jumps',q='quick'))"
   ]
  },
  {
   "cell_type": "code",
   "execution_count": 61,
   "id": "f34c3111",
   "metadata": {},
   "outputs": [
    {
     "name": "stdout",
     "output_type": "stream",
     "text": [
      "This is a stringINSERTED\n"
     ]
    }
   ],
   "source": [
    "print('This is a string{}'.format('INSERTED'))"
   ]
  },
  {
   "cell_type": "code",
   "execution_count": 63,
   "id": "c8c29176",
   "metadata": {},
   "outputs": [
    {
     "name": "stdout",
     "output_type": "stream",
     "text": [
      "The quick brown fox\n"
     ]
    }
   ],
   "source": [
    "print('The {2} {1} {0}'.format('fox', 'brown', 'quick'))"
   ]
  },
  {
   "cell_type": "markdown",
   "id": "181f7d40",
   "metadata": {},
   "source": [
    "**Float formating follows\"{value:width.precision _f_}\"**"
   ]
  },
  {
   "cell_type": "markdown",
   "id": "d4fd721c",
   "metadata": {},
   "source": [
    "This allows me to adjust the width and the precision of your floating point **Number**"
   ]
  },
  {
   "cell_type": "code",
   "execution_count": 64,
   "id": "de6652b3",
   "metadata": {},
   "outputs": [],
   "source": [
    "result = 100/777 "
   ]
  },
  {
   "cell_type": "code",
   "execution_count": 65,
   "id": "3b0b6558",
   "metadata": {},
   "outputs": [
    {
     "data": {
      "text/plain": [
       "0.1287001287001287"
      ]
     },
     "execution_count": 65,
     "metadata": {},
     "output_type": "execute_result"
    }
   ],
   "source": [
    "result"
   ]
  },
  {
   "cell_type": "markdown",
   "id": "cd45d638",
   "metadata": {},
   "source": [
    "Now lets change the level of precision we want and ebven cahnge the width of the number itself"
   ]
  },
  {
   "cell_type": "code",
   "execution_count": 67,
   "id": "27719d6e",
   "metadata": {},
   "outputs": [
    {
     "name": "stdout",
     "output_type": "stream",
     "text": [
      "The result was 0.1287001287001287\n"
     ]
    }
   ],
   "source": [
    "print('The result was {}'.format(result))"
   ]
  },
  {
   "cell_type": "code",
   "execution_count": 69,
   "id": "c99068a3",
   "metadata": {},
   "outputs": [
    {
     "name": "stdout",
     "output_type": "stream",
     "text": [
      "The result was 0.1287001287001287\n"
     ]
    }
   ],
   "source": [
    "print('The result was {r}'.format(r=result))"
   ]
  },
  {
   "cell_type": "markdown",
   "id": "4290e0f9",
   "metadata": {},
   "source": [
    "Lets say i only want 3 digits after the decimal"
   ]
  },
  {
   "cell_type": "code",
   "execution_count": 72,
   "id": "369d2491",
   "metadata": {},
   "outputs": [
    {
     "name": "stdout",
     "output_type": "stream",
     "text": [
      "The result was 0.129\n"
     ]
    }
   ],
   "source": [
    "print('The result was {r:1.3f}'.format(r=result))"
   ]
  },
  {
   "cell_type": "code",
   "execution_count": 73,
   "id": "6e4b7425",
   "metadata": {},
   "outputs": [
    {
     "name": "stdout",
     "output_type": "stream",
     "text": [
      "The result was      0.129\n"
     ]
    }
   ],
   "source": [
    "print('The result was {r:10.3f}'.format(r=result))"
   ]
  },
  {
   "cell_type": "markdown",
   "id": "fb7f0080",
   "metadata": {},
   "source": [
    "Noticed the space above that's because of the high width value i set i.e 10, so the reason for that was it basically let you describe how long or wide you want this entire string number be."
   ]
  },
  {
   "cell_type": "code",
   "execution_count": 74,
   "id": "e37efea9",
   "metadata": {},
   "outputs": [
    {
     "name": "stdout",
     "output_type": "stream",
     "text": [
      "The resul was nott the above result\n"
     ]
    }
   ],
   "source": [
    "print('The resul was {r}'.format(r= 'nott the above result'))"
   ]
  },
  {
   "cell_type": "code",
   "execution_count": 75,
   "id": "3869c125",
   "metadata": {},
   "outputs": [
    {
     "name": "stdout",
     "output_type": "stream",
     "text": [
      "The reslut was     0.1287\n"
     ]
    }
   ],
   "source": [
    "print('The reslut was {r:10.5}'.format(r=result))"
   ]
  },
  {
   "cell_type": "code",
   "execution_count": 80,
   "id": "e60626d4",
   "metadata": {},
   "outputs": [
    {
     "name": "stdout",
     "output_type": "stream",
     "text": [
      "The result was 0.12870013\n"
     ]
    }
   ],
   "source": [
    "print('The result was {r:10.8}'.format(r=result))"
   ]
  },
  {
   "cell_type": "markdown",
   "id": "d50a5d20",
   "metadata": {},
   "source": [
    " Noticed how there's less of white space now that's coz of the large precision value or more numbers past decimal point this time"
   ]
  },
  {
   "cell_type": "code",
   "execution_count": 81,
   "id": "8ebbc1e3",
   "metadata": {},
   "outputs": [],
   "source": [
    "result= 104.12345"
   ]
  },
  {
   "cell_type": "code",
   "execution_count": 82,
   "id": "a22c9ad2",
   "metadata": {},
   "outputs": [
    {
     "name": "stdout",
     "output_type": "stream",
     "text": [
      "The result was 104.12\n"
     ]
    }
   ],
   "source": [
    "print('The result was {r:1.2f}'.format(r=result))"
   ]
  },
  {
   "cell_type": "markdown",
   "id": "de1a2daa",
   "metadata": {},
   "source": [
    "## Now the same this with f-string method(formatted string literals)\n",
    "This is a new method this was introduced in python 3.6."
   ]
  },
  {
   "cell_type": "code",
   "execution_count": 88,
   "id": "1f8b881c",
   "metadata": {},
   "outputs": [],
   "source": [
    "name= 'Jose'"
   ]
  },
  {
   "cell_type": "code",
   "execution_count": 90,
   "id": "5fbf4d77",
   "metadata": {},
   "outputs": [
    {
     "name": "stdout",
     "output_type": "stream",
     "text": [
      "Hello, his name is Jose\n"
     ]
    }
   ],
   "source": [
    "print('Hello, his name is {}'.format(name))"
   ]
  },
  {
   "cell_type": "code",
   "execution_count": 106,
   "id": "e1aca9de",
   "metadata": {},
   "outputs": [
    {
     "name": "stdout",
     "output_type": "stream",
     "text": [
      "Hello, his name is Jose\n"
     ]
    }
   ],
   "source": [
    "print(f'Hello, his name is {name}')"
   ]
  },
  {
   "cell_type": "code",
   "execution_count": 134,
   "id": "1f22b7f4",
   "metadata": {},
   "outputs": [],
   "source": [
    "name= \"Sam\"\n",
    "age= \"5\""
   ]
  },
  {
   "cell_type": "code",
   "execution_count": 136,
   "id": "6888ae3c",
   "metadata": {},
   "outputs": [
    {
     "name": "stdout",
     "output_type": "stream",
     "text": [
      "Sam is 5 years old\n"
     ]
    }
   ],
   "source": [
    "print('{0} is {1} years old'.format(name,age))"
   ]
  },
  {
   "cell_type": "code",
   "execution_count": 139,
   "id": "7789d960",
   "metadata": {},
   "outputs": [
    {
     "name": "stdout",
     "output_type": "stream",
     "text": [
      "Sam is 5 years old.\n"
     ]
    }
   ],
   "source": [
    "print(f'{name} is {age} years old.')"
   ]
  },
  {
   "cell_type": "code",
   "execution_count": 155,
   "id": "0dd248c9",
   "metadata": {},
   "outputs": [],
   "source": [
    "verb= \"eat\"\n",
    "noun= \"burgures\"\n"
   ]
  },
  {
   "cell_type": "code",
   "execution_count": 159,
   "id": "5f2450c6",
   "metadata": {},
   "outputs": [
    {
     "name": "stdout",
     "output_type": "stream",
     "text": [
      "I only eat few burgures a month\n"
     ]
    }
   ],
   "source": [
    "print('I only {0} few {1} a month'.format(verb,noun))"
   ]
  },
  {
   "cell_type": "code",
   "execution_count": null,
   "id": "2494f8b6",
   "metadata": {},
   "outputs": [],
   "source": []
  },
  {
   "cell_type": "code",
   "execution_count": 164,
   "id": "9ba266a2",
   "metadata": {},
   "outputs": [],
   "source": [
    "x= \"5\"\n",
    "y= \"30\"\n",
    "z= \"4\""
   ]
  },
  {
   "cell_type": "code",
   "execution_count": 165,
   "id": "ad5b42f4",
   "metadata": {},
   "outputs": [
    {
     "name": "stdout",
     "output_type": "stream",
     "text": [
      "5 students are absent in the class of 30 for 4 days in a row\n"
     ]
    }
   ],
   "source": [
    "print('{0} students are absent in the class of {1} for {2} days in a row'.format(x,y,z))"
   ]
  },
  {
   "cell_type": "code",
   "execution_count": 166,
   "id": "aa50c107",
   "metadata": {},
   "outputs": [],
   "source": [
    "x,y,z= \"5\", \"30\", \"4\""
   ]
  },
  {
   "cell_type": "code",
   "execution_count": 167,
   "id": "eadbb73f",
   "metadata": {},
   "outputs": [
    {
     "name": "stdout",
     "output_type": "stream",
     "text": [
      "5 students are absent in the class of 30 for 4 days in a row\n"
     ]
    }
   ],
   "source": [
    "print('{0} students are absent in the class of {1} for {2} days in a row'.format(x,y,z))"
   ]
  },
  {
   "cell_type": "code",
   "execution_count": 168,
   "id": "bc27aba1",
   "metadata": {},
   "outputs": [],
   "source": [
    "x,y,z= '5', '30', '4'"
   ]
  },
  {
   "cell_type": "code",
   "execution_count": 169,
   "id": "83f8a5a0",
   "metadata": {},
   "outputs": [
    {
     "name": "stdout",
     "output_type": "stream",
     "text": [
      "5 students are absent in the class of 30 for 4 days in a row\n"
     ]
    }
   ],
   "source": [
    "print('{0} students are absent in the class of {1} for {2} days in a row'.format(x,y,z))"
   ]
  },
  {
   "cell_type": "code",
   "execution_count": 172,
   "id": "167afaa7",
   "metadata": {},
   "outputs": [
    {
     "name": "stdout",
     "output_type": "stream",
     "text": [
      "5 students are absent in the class of 30 for 4 days in a row\n"
     ]
    }
   ],
   "source": [
    "x,y,z= \"5\", \"30\", \"4\"\n",
    "print('{0} students are absent in the class of {1} for {2} days in a row'.format(x,y,z))"
   ]
  },
  {
   "cell_type": "code",
   "execution_count": 173,
   "id": "728e7923",
   "metadata": {},
   "outputs": [
    {
     "name": "stdout",
     "output_type": "stream",
     "text": [
      "5 students are absent in the class of 30 for 4 days in a row\n"
     ]
    }
   ],
   "source": [
    "x,y,z= '5', '30', '4'\n",
    "print('{0} students are absent in the class of {1} for {2} days in a row'.format(x,y,z))"
   ]
  },
  {
   "cell_type": "code",
   "execution_count": null,
   "id": "adb02165",
   "metadata": {},
   "outputs": [],
   "source": []
  }
 ],
 "metadata": {
  "kernelspec": {
   "display_name": "Python 3 (ipykernel)",
   "language": "python",
   "name": "python3"
  },
  "language_info": {
   "codemirror_mode": {
    "name": "ipython",
    "version": 3
   },
   "file_extension": ".py",
   "mimetype": "text/x-python",
   "name": "python",
   "nbconvert_exporter": "python",
   "pygments_lexer": "ipython3",
   "version": "3.9.7"
  }
 },
 "nbformat": 4,
 "nbformat_minor": 5
}
